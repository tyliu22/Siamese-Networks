{
 "cells": [
  {
   "cell_type": "markdown",
   "metadata": {},
   "source": [
    "# Few short learning with Siamese Networks\n",
    "\n",
    "This notebook tries to classify images using Siamese Networks proposed by ***Gregory et. al***, in his paper [Siamese Neural Networks for One-shot Image Recognition](http://www.cs.utoronto.ca/~gkoch/files/msc-thesis.pdf), to solve the **One shot learning** problem.\n",
    "\n",
    "This notebook uses a deep convolutional neural network (CNN) to extract features from input images. [Keras](https://keras.io/) is used for implementing the CNN.\n",
    "\n",
    "In the modern in which we live in Deep Learning has changed the way we use technology.\n",
    "\n",
    "- Mobile applications like Google Photos with automatic Face Detection.\n",
    "- Snapchat.\n",
    "- Google Assistant/Siri.\n",
    "\n",
    "All of these remarkable break throughs have been made possible by the power of Deep Learning.\n",
    "\n",
    "Automatic face and tag detectionon on Facebook, every time we upload new image, has been made possible by training Deep Learning models on large amount of data.\n",
    "\n",
    "Deep Learning models are performing so good in the current scenario because of the amount of data that is being generated each day. \n",
    "\n",
    "\n",
    "<img src=\"https://cdn-images-1.medium.com/max/800/1*ZX05x1xYgaVoa4Vn2kKS9g.png\"></img>\n",
    "<caption><center> <u> <font color='black'> **Figure 1** </u></center></caption>\n",
    "\n",
    "\n",
    "Traditional Machine Learning approaches worked like the top half of the picture above. You would have to design a feature extraction algorithm which generally involved a lot of heavy mathematics (complex design), wasn’t very efficient, and didn’t perform too well at all (accuracy level just wasn’t suitable for real-world applications). After doing all of that you would also have to design a whole classification model to classify your input given the extracted features.\n",
    "\n",
    "These models also fail to work with high dimensional data due to curse of dimensionality, in other words in high dimensional like Images, when fed into traditional machine learning models take a lot of time to find the right set of hyperparameters, though the number of hyperparameters is small but the number of feature space is so large that it will take a lot of time to train traditional machine learning models on such feature space.\n",
    "\n",
    "Deep Learning on the other hand, using Neural Network architectures has been able to solve this problem.\n",
    "\n",
    "\n",
    "## Few shot learning\n",
    "\n",
    "One of the main requisites of highly accurate deep learning models is large amount of data.\n",
    "The set of hyperparameters a Deep Model need to be tuned are very large, and the amount of data needed to get the right set of value for these hyperparameters is also large.\n",
    "\n",
    "But what if we need an automated system, which can successfully classify images to various classes given the data for each image class is quite less.\n",
    "\n",
    "**Few shot learning** is such a problem.\n",
    "We can **Few shot learning** as a problem to classify data into K classes where each class has only few examples.\n",
    "The paper written by [Gregory et. al](http://www.cs.utoronto.ca/~gkoch/files/msc-thesis.pdf), suggest ideas for building a Neural Network Architecture to solve this problem.\n",
    "\n",
    "<img src=\"https://encrypted-tbn0.gstatic.com/images?q=tbn:ANd9GcQThMusu8b2uK8kGwrFsg-cuZXaN8Wc7HkfgyiM-8YAfCfN_2uiJQ\"></img>\n",
    "<caption><center> <u> <font color='black'> **Figure 2** </u></center></caption>\n",
    "The above image has been chosen from the Coursera course on Deep Learning by DeepLearning.ai\n",
    "    \n",
    "    \n",
    "Machine learning has been successfully used to achieve state-ofthe-art\n",
    "performance in a variety of applications such as\n",
    "web search, spam detection, caption generation, and speech\n",
    "and image recognition. However, these algorithms often\n",
    "break down when forced to make predictions about data for\n",
    "which little supervised information is available. We desire\n",
    "to generalize to these unfamiliar categories without necessitating\n",
    "extensive retraining which may be either expensive\n",
    "or impossible due to limited data or in an online prediction\n",
    "setting, such as web retrieval.\n",
    "\n",
    "One particularly interesting task is classification under the\n",
    "restriction that we may only observe a single example of\n",
    "each possible class before making a prediction about a test\n",
    "instance. This is called one-shot learning and it is the primary\n",
    "focus of our model presented in this work"
   ]
  },
  {
   "cell_type": "code",
   "execution_count": 1,
   "metadata": {},
   "outputs": [
    {
     "ename": "ModuleNotFoundError",
     "evalue": "No module named 'seaborn'",
     "output_type": "error",
     "traceback": [
      "\u001b[0;31m---------------------------------------------------------------------------\u001b[0m",
      "\u001b[0;31mModuleNotFoundError\u001b[0m                       Traceback (most recent call last)",
      "\u001b[0;32m<ipython-input-1-7bc6bfa64256>\u001b[0m in \u001b[0;36m<module>\u001b[0;34m\u001b[0m\n\u001b[1;32m      5\u001b[0m \u001b[0;32mfrom\u001b[0m \u001b[0mkeras\u001b[0m\u001b[0;34m.\u001b[0m\u001b[0mlayers\u001b[0m \u001b[0;32mimport\u001b[0m \u001b[0mConv2D\u001b[0m\u001b[0;34m,\u001b[0m \u001b[0mZeroPadding2D\u001b[0m\u001b[0;34m,\u001b[0m \u001b[0mActivation\u001b[0m\u001b[0;34m,\u001b[0m \u001b[0mInput\u001b[0m\u001b[0;34m,\u001b[0m \u001b[0mconcatenate\u001b[0m\u001b[0;34m\u001b[0m\u001b[0;34m\u001b[0m\u001b[0m\n\u001b[1;32m      6\u001b[0m \u001b[0;32mfrom\u001b[0m \u001b[0mkeras\u001b[0m\u001b[0;34m.\u001b[0m\u001b[0mmodels\u001b[0m \u001b[0;32mimport\u001b[0m \u001b[0mModel\u001b[0m\u001b[0;34m\u001b[0m\u001b[0;34m\u001b[0m\u001b[0m\n\u001b[0;32m----> 7\u001b[0;31m \u001b[0;32mimport\u001b[0m \u001b[0mseaborn\u001b[0m \u001b[0;32mas\u001b[0m \u001b[0msns\u001b[0m\u001b[0;34m\u001b[0m\u001b[0;34m\u001b[0m\u001b[0m\n\u001b[0m\u001b[1;32m      8\u001b[0m \u001b[0;32mfrom\u001b[0m \u001b[0mkeras\u001b[0m\u001b[0;34m.\u001b[0m\u001b[0mlayers\u001b[0m\u001b[0;34m.\u001b[0m\u001b[0mnormalization\u001b[0m \u001b[0;32mimport\u001b[0m \u001b[0mBatchNormalization\u001b[0m\u001b[0;34m\u001b[0m\u001b[0;34m\u001b[0m\u001b[0m\n\u001b[1;32m      9\u001b[0m \u001b[0;32mfrom\u001b[0m \u001b[0mkeras\u001b[0m\u001b[0;34m.\u001b[0m\u001b[0mlayers\u001b[0m\u001b[0;34m.\u001b[0m\u001b[0mpooling\u001b[0m \u001b[0;32mimport\u001b[0m \u001b[0mMaxPooling2D\u001b[0m\u001b[0;34m,\u001b[0m \u001b[0mAveragePooling2D\u001b[0m\u001b[0;34m\u001b[0m\u001b[0;34m\u001b[0m\u001b[0m\n",
      "\u001b[0;31mModuleNotFoundError\u001b[0m: No module named 'seaborn'"
     ]
    }
   ],
   "source": [
    "# Import Keras and other Deep Learning dependencies\n",
    "from keras.models import Sequential\n",
    "import time\n",
    "from keras.optimizers import Adam\n",
    "from keras.layers import Conv2D, ZeroPadding2D, Activation, Input, concatenate\n",
    "from keras.models import Model\n",
    "import seaborn as sns\n",
    "from keras.layers.normalization import BatchNormalization\n",
    "from keras.layers.pooling import MaxPooling2D, AveragePooling2D\n",
    "from keras.layers.merge import Concatenate\n",
    "from keras.layers.core import Lambda, Flatten, Dense\n",
    "from keras.initializers import glorot_uniform\n",
    "from sklearn.preprocessing import LabelBinarizer\n",
    "from keras.optimizers import *\n",
    "from keras.engine.topology import Layer\n",
    "from keras import backend as K\n",
    "from keras.regularizers import l2\n",
    "K.set_image_data_format('channels_last')\n",
    "import cv2\n",
    "import os\n",
    "from skimage import io\n",
    "import numpy as np\n",
    "from numpy import genfromtxt\n",
    "import pandas as pd\n",
    "import tensorflow as tf\n",
    "from fr_utils import *\n",
    "from inception_blocks_v2 import *\n",
    "import numpy.random as rng\n",
    "from sklearn.utils import shuffle\n",
    "\n",
    "%matplotlib inline\n",
    "%load_ext autoreload\n",
    "%reload_ext autoreload\n",
    "\n",
    "np.set_printoptions(threshold=np.nan)"
   ]
  },
  {
   "cell_type": "code",
   "execution_count": null,
   "metadata": {},
   "outputs": [],
   "source": [
    "# Check whether GPU is being or not\n",
    "from tensorflow.python.client import device_lib\n",
    "print(device_lib.list_local_devices())"
   ]
  },
  {
   "cell_type": "code",
   "execution_count": null,
   "metadata": {},
   "outputs": [],
   "source": [
    "data_path = os.path.join('data/')\n",
    "train_folder = os.path.join(data_path,'images_background')\n",
    "valpath = os.path.join(data_path,'images_evaluation')"
   ]
  },
  {
   "cell_type": "code",
   "execution_count": 212,
   "metadata": {},
   "outputs": [],
   "source": [
    "base_class_name = 'character'"
   ]
  },
  {
   "cell_type": "code",
   "execution_count": 213,
   "metadata": {},
   "outputs": [
    {
     "name": "stdout",
     "output_type": "stream",
     "text": [
      "Each image in the data set has a same of (105, 105, 3)\n",
      "The number of features in any image from the data set are: 33075\n"
     ]
    }
   ],
   "source": [
    "img = cv2.imread('data/images_background/Sanskrit/character11/0861_06.png')\n",
    "print(\"Each image in the data set has a same of {0}\".format(img.shape))\n",
    "flattened_img = img.flatten()\n",
    "\n",
    "print(\"The number of features in any image from the data set are: {0}\".format(flattened_img.shape[0]))"
   ]
  },
  {
   "cell_type": "code",
   "execution_count": 214,
   "metadata": {},
   "outputs": [],
   "source": [
    "def gen_class_names(base_class_name):\n",
    "    classes = []\n",
    "    for i in range(1,21):\n",
    "        if i < 10:\n",
    "            classes.append(\"{0}0{1}\".format(base_class_name, i))\n",
    "        else:\n",
    "            classes.append(\"{0}{1}\".format(base_class_name, i))\n",
    "    return classes"
   ]
  },
  {
   "cell_type": "code",
   "execution_count": 215,
   "metadata": {},
   "outputs": [],
   "source": [
    "classes = gen_class_names(base_class_name)"
   ]
  },
  {
   "cell_type": "code",
   "execution_count": 216,
   "metadata": {},
   "outputs": [],
   "source": [
    "def generate_one_hot_encoding(classes):\n",
    "    encoder = LabelBinarizer()\n",
    "    transfomed_labels = encoder.fit_transform(classes)\n",
    "    return transfomed_labels"
   ]
  },
  {
   "cell_type": "code",
   "execution_count": 217,
   "metadata": {},
   "outputs": [],
   "source": [
    "labels = generate_one_hot_encoding(classes)"
   ]
  },
  {
   "cell_type": "markdown",
   "metadata": {},
   "source": [
    "## Siamese Networks\n",
    "\n",
    "Siamese network is a Deep Nueral Network architecture proposed by ***Gregory et. al*** in his paper [Siamese Neural Networks for One-shot Image Recognition](http://www.cs.utoronto.ca/~gkoch/files/msc-thesis.pdf), the paper proposes an architecture where using Convolutional Nueral Networks one can tackle the problem of One Shot Learning.\n",
    "\n",
    "The model aims to solve the basic problem of **image verification**, given that we have very few samples of image of each class or category\n",
    "\n",
    "The models aims to learn the embeddings of 2 separate images fed into the Nueral Network, the two embeddings are used to calculate the L1 distance between the 2 embeddings.\n",
    "Once the distance embedding metric is calculated, the embedding is fed into a sigmoid unit which by the magic of back propogation, learns the correct set of hyperparameters to carry out the image verification.\n",
    "\n",
    "<img src=\"https://sorenbouma.github.io/images/Siamese_diagram_2.png\"></img>\n",
    "<caption><center> <u> <font color='black'> **Figure 3**</font> </u></center></caption>\n",
    "\n",
    "\n",
    "The model of Siamese network can be described as CNN architecture with 2 arms, a right arm and a left arm. The CNN architecture of a single arm has 9 layers, including Max Pooling and Convolutional layers of different filter sizes, as described in the paper. These 9 layers work as feature selectors for the CNN architecture. Convolutional layers are initialized with weights having **0 mean 0.01 standard deviation**, also the bias hyperparameter of the these layers is initialized with a **mean value of 0.5 and a standard deviation of 0.01**.\n",
    "\n",
    "The basic intuition that once can gain from the paper is that it uses the L1 distance between the pixels of 2 different images as a metric of similarity.\n",
    " - If 2 images are similar the L1 distance between them will be lower as compared to the L1 distance computed for 2 somewhat different images.\n",
    " - The L1 distance computed is then used to train the sigmoid unit to find the write set of hyperparameters."
   ]
  },
  {
   "cell_type": "code",
   "execution_count": 218,
   "metadata": {},
   "outputs": [],
   "source": [
    "def initialize_weights(shape, name=None):\n",
    "    \"\"\"\n",
    "        The paper, http://www.cs.utoronto.ca/~gkoch/files/msc-thesis.pdf\n",
    "        suggests to initialize CNN layer weights with mean as 0.0 and standard deviation of 0.01\n",
    "    \"\"\"\n",
    "    return np.random.normal(loc = 0.0, scale = 1e-2, size = shape)"
   ]
  },
  {
   "cell_type": "code",
   "execution_count": 245,
   "metadata": {},
   "outputs": [
    {
     "data": {
      "text/plain": [
       "Text(0.5,1,'Plot of weights initialized, with mean of 0.0 and standard deviation of 0.01')"
      ]
     },
     "execution_count": 245,
     "metadata": {},
     "output_type": "execute_result"
    },
    {
     "data": {
      "image/png": "[encoded data removed]",
      "text/plain": [
       "<matplotlib.figure.Figure at 0x7fd3bc979390>"
      ]
     },
     "metadata": {},
     "output_type": "display_data"
    }
   ],
   "source": [
    "# Intialize bias with mean 0.0 and standard deviation of 10^-2\n",
    "weights = initialize_weights((1000,1))\n",
    "sns.distplot(weights)\n",
    "plt.title(\"Plot of weights initialized, with mean of 0.0 and standard deviation of 0.01\")"
   ]
  },
  {
   "cell_type": "code",
   "execution_count": 220,
   "metadata": {},
   "outputs": [],
   "source": [
    "def initialize_bias(shape, name=None):\n",
    "    \"\"\"\n",
    "        The paper, http://www.cs.utoronto.ca/~gkoch/files/msc-thesis.pdf\n",
    "        suggests to initialize CNN layer bias with mean as 0.5 and standard deviation of 0.01\n",
    "    \"\"\"\n",
    "    return np.random.normal(loc = 0.5, scale = 1e-2, size = shape)"
   ]
  },
  {
   "cell_type": "code",
   "execution_count": 246,
   "metadata": {},
   "outputs": [
    {
     "data": {
      "text/plain": [
       "Text(0.5,1,'Plot of biases initialized, with mean of 0.0 and standard deviation of 0.01')"
      ]
     },
     "execution_count": 246,
     "metadata": {},
     "output_type": "execute_result"
    },
    {
     "data": {
      "image/png": "[encoded data removed]",
      "text/plain": [
       "<matplotlib.figure.Figure at 0x7fd3bce80ba8>"
      ]
     },
     "metadata": {},
     "output_type": "display_data"
    }
   ],
   "source": [
    "# Intialize bias with mean 0.5 and standard deviation of 10^-2\n",
    "bias = initialize_bias((1000,1))\n",
    "sns.distplot(bias)\n",
    "plt.title(\"Plot of biases initialized, with mean of 0.0 and standard deviation of 0.01\")"
   ]
  },
  {
   "cell_type": "code",
   "execution_count": 222,
   "metadata": {},
   "outputs": [],
   "source": [
    "def get_siamese_model(input_shape):\n",
    "    \"\"\"\n",
    "        Model architecture based on the one provided in: http://www.cs.utoronto.ca/~gkoch/files/msc-thesis.pdf\n",
    "    \"\"\"\n",
    "    left_input = Input(input_shape)\n",
    "    right_input = Input(input_shape)\n",
    "    model = Sequential()\n",
    "    model.add(Conv2D(64, (10,10), activation='relu', input_shape=input_shape,\n",
    "                   kernel_initializer=initialize_weights, kernel_regularizer=l2(2e-4)))\n",
    "    model.add(MaxPooling2D())\n",
    "    model.add(Conv2D(128, (7,7), activation='relu',\n",
    "                     kernel_initializer=initialize_weights,\n",
    "                     bias_initializer=initialize_bias, kernel_regularizer=l2(2e-4)))\n",
    "    model.add(MaxPooling2D())\n",
    "    model.add(Conv2D(128, (4,4), activation='relu', kernel_initializer=initialize_weights,\n",
    "                     bias_initializer=initialize_bias, kernel_regularizer=l2(2e-4)))\n",
    "    model.add(MaxPooling2D())\n",
    "    model.add(Conv2D(256, (4,4), activation='relu', kernel_initializer=initialize_weights,\n",
    "                     bias_initializer=initialize_bias, kernel_regularizer=l2(2e-4)))\n",
    "    model.add(Flatten())\n",
    "    model.add(Dense(4096, activation='sigmoid',\n",
    "                   kernel_regularizer=l2(1e-3),\n",
    "                   kernel_initializer=initialize_weights,bias_initializer=initialize_bias))\n",
    "    encoded_l = model(left_input)\n",
    "    encoded_r = model(right_input)\n",
    "    L1_layer = Lambda(lambda tensors:K.abs(tensors[0] - tensors[1]))\n",
    "    L1_distance = L1_layer([encoded_l, encoded_r])\n",
    "    prediction = Dense(1,activation='sigmoid',bias_initializer=initialize_bias)(L1_distance)\n",
    "    siamese_net = Model(inputs=[left_input,right_input],outputs=prediction)\n",
    "    return siamese_net"
   ]
  },
  {
   "cell_type": "code",
   "execution_count": 223,
   "metadata": {},
   "outputs": [
    {
     "name": "stdout",
     "output_type": "stream",
     "text": [
      "__________________________________________________________________________________________________\n",
      "Layer (type)                    Output Shape         Param #     Connected to                     \n",
      "==================================================================================================\n",
      "input_7 (InputLayer)            (None, 105, 105, 1)  0                                            \n",
      "__________________________________________________________________________________________________\n",
      "input_8 (InputLayer)            (None, 105, 105, 1)  0                                            \n",
      "__________________________________________________________________________________________________\n",
      "sequential_70 (Sequential)      (None, 4096)         38947648    input_7[0][0]                    \n",
      "                                                                 input_8[0][0]                    \n",
      "__________________________________________________________________________________________________\n",
      "lambda_4 (Lambda)               (None, 4096)         0           sequential_70[1][0]              \n",
      "                                                                 sequential_70[2][0]              \n",
      "__________________________________________________________________________________________________\n",
      "dense_8 (Dense)                 (None, 1)            4097        lambda_4[0][0]                   \n",
      "==================================================================================================\n",
      "Total params: 38,951,745\n",
      "Trainable params: 38,951,745\n",
      "Non-trainable params: 0\n",
      "__________________________________________________________________________________________________\n"
     ]
    }
   ],
   "source": [
    "model = get_siamese_model((105, 105, 1))\n",
    "model.summary()"
   ]
  },
  {
   "cell_type": "markdown",
   "metadata": {},
   "source": [
    "### Optimizing function and loss function\n",
    "The training was initially done using Stochastic gradient descent(as described in the paper) with a learning rate 0.0005(choosen randomly between 0.01 and 0.00001) initially, due to which the convergence of model was very slow, after 3000 iterations the validation decreased from .47 to .43, where when the training was done using Adam's algorithm to optimize the training process even though with a smaller learning rate of 0.00006, the decrease in the validation loss was much faster as compared to simple Stochastic Gradient Descent.\n",
    "\n"
   ]
  },
  {
   "cell_type": "code",
   "execution_count": 248,
   "metadata": {},
   "outputs": [],
   "source": [
    "optimizer = Adam(lr = 0.00006)\n",
    "model.compile(loss=\"binary_crossentropy\",optimizer=optimizer)"
   ]
  },
  {
   "cell_type": "markdown",
   "metadata": {},
   "source": [
    "### Image Verification and Recognition\n",
    "\n",
    "Image verification is the task to find whether 2 images fed as input belong to the class/person or category.\n",
    "Image verification differs from Image Recognition, where in Image Verification is 1:1 classification problem and Image Recognition is a 1:K classifcation problem, where K is the total number of classes present.\n",
    "\n",
    "**Image Verification**\n",
    "In Image Verification, you're given two images and you have to tell if they are of the same person. The simplest way to do this is to compare the two images pixel-by-pixel. If the distance between the raw images are less than a chosen threshold, it may be the same person/class.\n",
    "\n",
    "<img src=\"https://image.ibb.co/k3P0hJ/pixel_comparison.png\" style=\"width:380px;height:150px;\"></img>\n",
    "<caption><center> <u> <font color='black'> **Figure 4**</font> </u></center></caption>\n",
    "    \n",
    "    \n",
    "\n",
    "\n",
    "\n",
    "\n",
    "**Face Recognition**\n",
    "Facial recognition is a biometric solution that measures unique characteristics about one’s face. Applications available today include flight checkin, tagging friends and family members in photos, and “tailored” advertising.\n",
    "\n",
    "<img src=\"https://cdn-images-1.medium.com/max/800/1*wh1N-kogDMaZYS17lqyqeQ.jpeg\"></img>\n",
    "<caption><center> <u> <font color='black'> **Figure 5**</font> </u></center></caption>"
   ]
  },
  {
   "cell_type": "markdown",
   "metadata": {},
   "source": [
    "## Dataset\n",
    "\n",
    "<img src=\"https://cdn-images-1.medium.com/max/1600/1*fRd4Sc6cT0_KFm6IhB3Bqw.png\"></img>\n",
    "<caption><center> <u> <font color='black'> **Figure 6**</font> </u></center></caption>\n",
    "\n",
    "To demonstrate few shot [Omniglot dataset](https://github.com/brendenlake/omniglot) is used, Omniglot of Lake et al. is a MNIST-like scribbles dataset with 1623 characters with 20 examples each. The large number of classes (characters) with relatively few data per class (20), makes this an ideal data set for testing few-shot classification.\n",
    "\n",
    "The figures below show few of the samples from the dataset."
   ]
  },
  {
   "cell_type": "code",
   "execution_count": 225,
   "metadata": {},
   "outputs": [],
   "source": [
    "def plot_images(path):\n",
    "    \"\"\"\n",
    "        Plot all 20 samples of a particular character of a language\n",
    "    \"\"\"\n",
    "    f, axarr = plt.subplots(5,4, figsize=(10,10))\n",
    "    images_list = []\n",
    "    for image in os.listdir(path):\n",
    "        image_path = os.path.join(path, image)\n",
    "        img = cv2.imread(image_path)\n",
    "        images_list.append(img)\n",
    "    for i in range(5):\n",
    "        for j in range(4):\n",
    "            axarr[i,j].imshow(images_list.pop())"
   ]
  },
  {
   "cell_type": "code",
   "execution_count": 226,
   "metadata": {},
   "outputs": [
    {
     "name": "stdout",
     "output_type": "stream",
     "text": [
      "Arcadian language, 20 samples of the third character.\n"
     ]
    },
    {
     "data": {
      "image/png": "[encoded data removed]",
      "text/plain": [
       "<matplotlib.figure.Figure at 0x7fd3b904b828>"
      ]
     },
     "metadata": {},
     "output_type": "display_data"
    }
   ],
   "source": [
    "plot_images(os.path.join(data_path, 'images_background/Arcadian/character03/'))\n",
    "print(\"Arcadian language, 20 samples of the third character.\")"
   ]
  },
  {
   "cell_type": "code",
   "execution_count": 243,
   "metadata": {},
   "outputs": [
    {
     "name": "stdout",
     "output_type": "stream",
     "text": [
      "Korean language, 20 samples of the seventh character.\n"
     ]
    },
    {
     "data": {
      "image/png": "[encoded data removed]",
      "text/plain": [
       "<matplotlib.figure.Figure at 0x7fd3bb4eeb38>"
      ]
     },
     "metadata": {},
     "output_type": "display_data"
    }
   ],
   "source": [
    "plot_images(os.path.join(data_path, 'images_background/Korean/character07/'))\n",
    "print(\"Korean language, 20 samples of the seventh character.\")"
   ]
  },
  {
   "cell_type": "code",
   "execution_count": 233,
   "metadata": {},
   "outputs": [
    {
     "name": "stdout",
     "output_type": "stream",
     "text": [
      "loading alphabet: Cyrillic\n",
      "loading alphabet: Syriac_(Estrangelo)\n",
      "loading alphabet: Gujarati\n",
      "loading alphabet: Latin\n",
      "loading alphabet: Burmese_(Myanmar)\n",
      "loading alphabet: Japanese_(katakana)\n",
      "loading alphabet: Mkhedruli_(Georgian)\n",
      "loading alphabet: Alphabet_of_the_Magi\n",
      "loading alphabet: Grantha\n",
      "loading alphabet: Braille\n",
      "loading alphabet: Early_Aramaic\n",
      "loading alphabet: Tifinagh\n",
      "loading alphabet: Asomtavruli_(Georgian)\n",
      "loading alphabet: Arcadian\n",
      "loading alphabet: Blackfoot_(Canadian_Aboriginal_Syllabics)\n",
      "loading alphabet: Greek\n",
      "loading alphabet: Japanese_(hiragana)\n",
      "loading alphabet: Malay_(Jawi_-_Arabic)\n",
      "loading alphabet: Ojibwe_(Canadian_Aboriginal_Syllabics)\n",
      "loading alphabet: Futurama\n",
      "loading alphabet: N_Ko\n",
      "loading alphabet: Bengali\n",
      "loading alphabet: Armenian\n",
      "loading alphabet: Tagalog\n",
      "loading alphabet: Korean\n",
      "loading alphabet: Anglo-Saxon_Futhorc\n",
      "loading alphabet: Sanskrit\n",
      "loading alphabet: Balinese\n",
      "loading alphabet: Inuktitut_(Canadian_Aboriginal_Syllabics)\n",
      "loading alphabet: Hebrew\n",
      "loading alphabet: Glagolitic\n",
      "loading alphabet: Avesta\n",
      "loading alphabet: Aurek-Besh\n",
      "loading alphabet: Malayalam\n",
      "loading alphabet: Manipuri\n",
      "loading alphabet: ULOG\n",
      "loading alphabet: Old_Church_Slavonic_(Cyrillic)\n",
      "loading alphabet: Kannada\n",
      "loading alphabet: Sylheti\n",
      "loading alphabet: Atlantean\n",
      "loading alphabet: Keble\n",
      "loading alphabet: Ge_ez\n",
      "loading alphabet: Mongolian\n",
      "loading alphabet: Tibetan\n",
      "loading alphabet: Atemayar_Qelisayer\n",
      "loading alphabet: Syriac_(Serto)\n",
      "loading alphabet: Gurmukhi\n",
      "loading alphabet: Tengwar\n",
      "loading alphabet: Oriya\n",
      "loading alphabet: Angelic\n"
     ]
    }
   ],
   "source": [
    "from load_data import *"
   ]
  },
  {
   "cell_type": "code",
   "execution_count": 234,
   "metadata": {},
   "outputs": [
    {
     "name": "stdout",
     "output_type": "stream",
     "text": [
      "Training alphabets: \n",
      "\n",
      "['Cyrillic', 'Syriac_(Estrangelo)', 'Gujarati', 'Latin', 'Burmese_(Myanmar)', 'Japanese_(katakana)', 'Mkhedruli_(Georgian)', 'Alphabet_of_the_Magi', 'Grantha', 'Braille', 'Early_Aramaic', 'Tifinagh', 'Asomtavruli_(Georgian)', 'Arcadian', 'Blackfoot_(Canadian_Aboriginal_Syllabics)', 'Greek', 'Japanese_(hiragana)', 'Malay_(Jawi_-_Arabic)', 'Ojibwe_(Canadian_Aboriginal_Syllabics)', 'Futurama', 'N_Ko', 'Bengali', 'Armenian', 'Tagalog', 'Korean', 'Anglo-Saxon_Futhorc', 'Sanskrit', 'Balinese', 'Inuktitut_(Canadian_Aboriginal_Syllabics)', 'Hebrew']\n",
      "Validation alphabets:\n",
      "\n",
      "['Glagolitic', 'Avesta', 'Aurek-Besh', 'Malayalam', 'Manipuri', 'ULOG', 'Old_Church_Slavonic_(Cyrillic)', 'Kannada', 'Sylheti', 'Atlantean', 'Keble', 'Ge_ez', 'Mongolian', 'Tibetan', 'Atemayar_Qelisayer', 'Syriac_(Serto)', 'Gurmukhi', 'Tengwar', 'Oriya', 'Angelic']\n"
     ]
    }
   ],
   "source": [
    "with open(os.path.join(data_path, \"train.pickle\"), \"rb\") as f:\n",
    "    (X, classes) = pickle.load(f)\n",
    "\n",
    "with open(os.path.join(data_path, \"val.pickle\"), \"rb\") as f:\n",
    "    (Xval, val_classes) = pickle.load(f)\n",
    "    \n",
    "print(\"Training alphabets: \\n\")\n",
    "print(list(classes.keys()))\n",
    "print(\"Validation alphabets:\", end=\"\\n\\n\")\n",
    "print(list(val_classes.keys()))"
   ]
  },
  {
   "cell_type": "markdown",
   "metadata": {},
   "source": [
    "### Training pipeline"
   ]
  },
  {
   "cell_type": "code",
   "execution_count": 235,
   "metadata": {},
   "outputs": [
    {
     "name": "stdout",
     "output_type": "stream",
     "text": [
      "loading data from data/train.pickle\n",
      "loading data from data/val.pickle\n"
     ]
    }
   ],
   "source": [
    "class Siamese_Loader:\n",
    "    \"\"\"For loading batches and testing tasks to a siamese net\"\"\"\n",
    "    def __init__(self, path, data_subsets = [\"train\", \"val\"]):\n",
    "        self.data = {}\n",
    "        self.categories = {}\n",
    "        self.info = {}\n",
    "        \n",
    "        for name in data_subsets:\n",
    "            file_path = os.path.join(path, name + \".pickle\")\n",
    "            print(\"loading data from {}\".format(file_path))\n",
    "            with open(file_path,\"rb\") as f:\n",
    "                (X,c) = pickle.load(f)\n",
    "                self.data[name] = X\n",
    "                self.categories[name] = c\n",
    "\n",
    "    def get_batch(self,batch_size,s=\"train\"):\n",
    "        \"\"\"Create batch of n pairs, half same class, half different class\"\"\"\n",
    "        X=self.data[s]\n",
    "        n_classes, n_examples, w, h = X.shape\n",
    "\n",
    "        #randomly sample several classes to use in the batch\n",
    "        categories = rng.choice(n_classes,size=(batch_size,),replace=False)\n",
    "        #initialize 2 empty arrays for the input image batch\n",
    "        pairs=[np.zeros((batch_size, h, w,1)) for i in range(2)]\n",
    "        #initialize vector for the targets, and make one half of it '1's, so 2nd half of batch has same class\n",
    "        targets=np.zeros((batch_size,))\n",
    "        targets[batch_size//2:] = 1\n",
    "        for i in range(batch_size):\n",
    "            category = categories[i]\n",
    "            idx_1 = rng.randint(0, n_examples)\n",
    "            pairs[0][i,:,:,:] = X[category, idx_1].reshape(w, h, 1)\n",
    "            idx_2 = rng.randint(0, n_examples)\n",
    "            #pick images of same class for 1st half, different for 2nd\n",
    "            if i >= batch_size // 2:\n",
    "                category_2 = category  \n",
    "            else: \n",
    "                #add a random number to the category modulo n classes to ensure 2nd image has\n",
    "                # ..different category\n",
    "                category_2 = (category + rng.randint(1,n_classes)) % n_classes\n",
    "            pairs[1][i,:,:,:] = X[category_2,idx_2].reshape(w, h,1)\n",
    "        return pairs, targets\n",
    "    \n",
    "    def generate(self, batch_size, s=\"train\"):\n",
    "        \"\"\"a generator for batches, so model.fit_generator can be used. \"\"\"\n",
    "        while True:\n",
    "            pairs, targets = self.get_batch(batch_size,s)\n",
    "            yield (pairs, targets)    \n",
    "\n",
    "    def make_oneshot_task(self,N,s=\"val\",language=None):\n",
    "        \"\"\"Create pairs of test image, support set for testing N way one-shot learning. \"\"\"\n",
    "        X=self.data[s]\n",
    "        n_classes, n_examples, w, h = X.shape\n",
    "        indices = rng.randint(0,n_examples,size=(N,))\n",
    "        if language is not None:\n",
    "            low, high = self.categories[s][language]\n",
    "            if N > high - low:\n",
    "                raise ValueError(\"This language ({}) has less than {} letters\".format(language, N))\n",
    "            categories = rng.choice(range(low,high),size=(N,),replace=False)\n",
    "            \n",
    "        else:#if no language specified just pick a bunch of random letters\n",
    "            categories = rng.choice(range(n_classes),size=(N,),replace=False)            \n",
    "        true_category = categories[0]\n",
    "        ex1, ex2 = rng.choice(n_examples,replace=False,size=(2,))\n",
    "        test_image = np.asarray([X[true_category,ex1,:,:]]*N).reshape(N, w, h,1)\n",
    "        support_set = X[categories,indices,:,:]\n",
    "        support_set[0,:,:] = X[true_category,ex2]\n",
    "        support_set = support_set.reshape(N, w, h,1)\n",
    "        targets = np.zeros((N,))\n",
    "        targets[0] = 1\n",
    "        targets, test_image, support_set = shuffle(targets, test_image, support_set)\n",
    "        pairs = [test_image,support_set]\n",
    "\n",
    "        return pairs, targets\n",
    "    \n",
    "    def test_oneshot(self,model,N,k,s=\"val\",verbose=0):\n",
    "        \"\"\"Test average N way oneshot learning accuracy of a siamese neural net over k one-shot tasks\"\"\"\n",
    "        n_correct = 0\n",
    "        if verbose:\n",
    "            print(\"Evaluating model on {} random {} way one-shot learning tasks ... \\n\".format(k,N))\n",
    "        for i in range(k):\n",
    "            inputs, targets = self.make_oneshot_task(N,s)\n",
    "            probs = model.predict(inputs)\n",
    "            if np.argmax(probs) == np.argmax(targets):\n",
    "                n_correct+=1\n",
    "        percent_correct = (100.0*n_correct / k)\n",
    "        if verbose:\n",
    "            print(\"Got an average of {}% {} way one-shot learning accuracy \\n\".format(percent_correct,N))\n",
    "        return percent_correct\n",
    "    \n",
    "    def train(self, model, epochs, verbosity):\n",
    "        model.fit_generator(self.generate(batch_size))\n",
    "    \n",
    "\n",
    "loader = Siamese_Loader(data_path)"
   ]
  },
  {
   "cell_type": "code",
   "execution_count": 236,
   "metadata": {},
   "outputs": [
    {
     "data": {
      "image/png": "[encoded data removed]",
      "text/plain": [
       "<matplotlib.figure.Figure at 0x7fd3bc192f98>"
      ]
     },
     "metadata": {},
     "output_type": "display_data"
    }
   ],
   "source": [
    "def concat_images(X):\n",
    "    \"\"\"Concatenates a bunch of images into a big matrix for plotting purposes.\"\"\"\n",
    "    nc, h , w, _ = X.shape\n",
    "    X = X.reshape(nc, h, w)\n",
    "    n = np.ceil(np.sqrt(nc)).astype(\"int8\")\n",
    "    img = np.zeros((n*w,n*h))\n",
    "    x = 0\n",
    "    y = 0\n",
    "    for example in range(nc):\n",
    "        img[x*w:(x+1)*w,y*h:(y+1)*h] = X[example]\n",
    "        y += 1\n",
    "        if y >= n:\n",
    "            y = 0\n",
    "            x += 1\n",
    "    return img\n",
    "\n",
    "\n",
    "def plot_oneshot_task(pairs):\n",
    "    fig,(ax1,ax2) = plt.subplots(2)\n",
    "    ax1.matshow(pairs[0][0].reshape(105,105), cmap='gray')\n",
    "    img = concat_images(pairs[1])\n",
    "    ax1.get_yaxis().set_visible(False)\n",
    "    ax1.get_xaxis().set_visible(False)\n",
    "    ax2.matshow(img,cmap='gray')\n",
    "    plt.xticks([])\n",
    "    plt.yticks([])\n",
    "    plt.show()\n",
    "\n",
    "pairs, targets = loader.make_oneshot_task(20,\"train\",\"Japanese_(katakana)\")\n",
    "plot_oneshot_task(pairs)"
   ]
  },
  {
   "cell_type": "code",
   "execution_count": 237,
   "metadata": {},
   "outputs": [],
   "source": [
    "evaluate_every = 10 # interval for evaluating on one-shot tasks\n",
    "loss_every = 20 # interval for printing loss (iterations)\n",
    "batch_size = 32\n",
    "n_iter = 20000\n",
    "N_way = 20 # how many classes for testing one-shot tasks>\n",
    "n_val = 250 # how many one-shot tasks to validate on?\n",
    "best = -1\n",
    "print(\"Starting training process!\")\n",
    "print(\"-------------------------------------\")\n",
    "t_start = time.time()\n",
    "for i in range(1, n_iter):\n",
    "    (inputs,targets)=loader.get_batch(batch_size)\n",
    "    loss=model.train_on_batch(inputs,targets)\n",
    "    print(\"\\n ------------- \\n\")\n",
    "    print(\"Loss: {0}\".format(loss)) \n",
    "    if i % evaluate_every == 0:\n",
    "        print(\"Time for {0} iterations: {1}\".format(i, time.time()-t_start))\n",
    "        val_acc = loader.test_oneshot(model,N_way,n_val,verbose=True)\n",
    "        if val_acc >= best:\n",
    "            print(\"Current best: {0}, previous best: {1}\".format(val_acc, best))\n",
    "            print(\"Saving weights to: {0} \\n\".format(weights_path))\n",
    "            model.save_weights(weights_path_2)\n",
    "            best=val_acc\n",
    "    \n",
    "    if i % loss_every == 0:\n",
    "        print(\"iteration {}, training loss: {:.2f},\".format(i,loss))\n",
    "\n",
    "        \n",
    "weights_path_2 = os.path.join(data_path, \"model_weights.h5\")\n",
    "model.load_weights(weights_path_2)"
   ]
  },
  {
   "cell_type": "markdown",
   "metadata": {},
   "source": [
    "### Testing pipeline "
   ]
  },
  {
   "cell_type": "code",
   "execution_count": 241,
   "metadata": {},
   "outputs": [
    {
     "name": "stdout",
     "output_type": "stream",
     "text": [
      "Evaluating model on 450 random 1 way one-shot learning tasks ... \n",
      "\n",
      "Got an average of 100.0% 1 way one-shot learning accuracy \n",
      "\n",
      "Evaluating model on 450 random 1 way one-shot learning tasks ... \n",
      "\n",
      "Got an average of 100.0% 1 way one-shot learning accuracy \n",
      "\n",
      "Evaluating nearest neighbour on 450 unique 1 way one-shot learning tasks ...\n",
      "Evaluating model on 450 random 3 way one-shot learning tasks ... \n",
      "\n",
      "Got an average of 96.88888888888889% 3 way one-shot learning accuracy \n",
      "\n",
      "Evaluating model on 450 random 3 way one-shot learning tasks ... \n",
      "\n",
      "Got an average of 99.55555555555556% 3 way one-shot learning accuracy \n",
      "\n",
      "Evaluating nearest neighbour on 450 unique 3 way one-shot learning tasks ...\n",
      "Evaluating model on 450 random 5 way one-shot learning tasks ... \n",
      "\n",
      "Got an average of 94.0% 5 way one-shot learning accuracy \n",
      "\n",
      "Evaluating model on 450 random 5 way one-shot learning tasks ... \n",
      "\n",
      "Got an average of 99.77777777777777% 5 way one-shot learning accuracy \n",
      "\n",
      "Evaluating nearest neighbour on 450 unique 5 way one-shot learning tasks ...\n",
      "Evaluating model on 450 random 7 way one-shot learning tasks ... \n",
      "\n",
      "Got an average of 90.88888888888889% 7 way one-shot learning accuracy \n",
      "\n",
      "Evaluating model on 450 random 7 way one-shot learning tasks ... \n",
      "\n",
      "Got an average of 97.33333333333333% 7 way one-shot learning accuracy \n",
      "\n",
      "Evaluating nearest neighbour on 450 unique 7 way one-shot learning tasks ...\n",
      "Evaluating model on 450 random 9 way one-shot learning tasks ... \n",
      "\n",
      "Got an average of 86.88888888888889% 9 way one-shot learning accuracy \n",
      "\n",
      "Evaluating model on 450 random 9 way one-shot learning tasks ... \n",
      "\n",
      "Got an average of 98.0% 9 way one-shot learning accuracy \n",
      "\n",
      "Evaluating nearest neighbour on 450 unique 9 way one-shot learning tasks ...\n",
      "Evaluating model on 450 random 11 way one-shot learning tasks ... \n",
      "\n",
      "Got an average of 88.0% 11 way one-shot learning accuracy \n",
      "\n",
      "Evaluating model on 450 random 11 way one-shot learning tasks ... \n",
      "\n",
      "Got an average of 96.66666666666667% 11 way one-shot learning accuracy \n",
      "\n",
      "Evaluating nearest neighbour on 450 unique 11 way one-shot learning tasks ...\n",
      "Evaluating model on 450 random 13 way one-shot learning tasks ... \n",
      "\n",
      "Got an average of 88.88888888888889% 13 way one-shot learning accuracy \n",
      "\n",
      "Evaluating model on 450 random 13 way one-shot learning tasks ... \n",
      "\n",
      "Got an average of 97.11111111111111% 13 way one-shot learning accuracy \n",
      "\n",
      "Evaluating nearest neighbour on 450 unique 13 way one-shot learning tasks ...\n",
      "Evaluating model on 450 random 15 way one-shot learning tasks ... \n",
      "\n",
      "Got an average of 85.77777777777777% 15 way one-shot learning accuracy \n",
      "\n",
      "Evaluating model on 450 random 15 way one-shot learning tasks ... \n",
      "\n",
      "Got an average of 97.11111111111111% 15 way one-shot learning accuracy \n",
      "\n",
      "Evaluating nearest neighbour on 450 unique 15 way one-shot learning tasks ...\n",
      "Evaluating model on 450 random 17 way one-shot learning tasks ... \n",
      "\n",
      "Got an average of 81.55555555555556% 17 way one-shot learning accuracy \n",
      "\n",
      "Evaluating model on 450 random 17 way one-shot learning tasks ... \n",
      "\n",
      "Got an average of 96.88888888888889% 17 way one-shot learning accuracy \n",
      "\n",
      "Evaluating nearest neighbour on 450 unique 17 way one-shot learning tasks ...\n",
      "Evaluating model on 450 random 19 way one-shot learning tasks ... \n",
      "\n",
      "Got an average of 84.88888888888889% 19 way one-shot learning accuracy \n",
      "\n",
      "Evaluating model on 450 random 19 way one-shot learning tasks ... \n",
      "\n",
      "Got an average of 95.77777777777777% 19 way one-shot learning accuracy \n",
      "\n",
      "Evaluating nearest neighbour on 450 unique 19 way one-shot learning tasks ...\n",
      "Evaluating model on 450 random 21 way one-shot learning tasks ... \n",
      "\n",
      "Got an average of 84.22222222222223% 21 way one-shot learning accuracy \n",
      "\n",
      "Evaluating model on 450 random 21 way one-shot learning tasks ... \n",
      "\n",
      "Got an average of 96.44444444444444% 21 way one-shot learning accuracy \n",
      "\n",
      "Evaluating nearest neighbour on 450 unique 21 way one-shot learning tasks ...\n",
      "Evaluating model on 450 random 23 way one-shot learning tasks ... \n",
      "\n",
      "Got an average of 77.55555555555556% 23 way one-shot learning accuracy \n",
      "\n",
      "Evaluating model on 450 random 23 way one-shot learning tasks ... \n",
      "\n",
      "Got an average of 95.55555555555556% 23 way one-shot learning accuracy \n",
      "\n",
      "Evaluating nearest neighbour on 450 unique 23 way one-shot learning tasks ...\n",
      "Evaluating model on 450 random 25 way one-shot learning tasks ... \n",
      "\n",
      "Got an average of 81.11111111111111% 25 way one-shot learning accuracy \n",
      "\n",
      "Evaluating model on 450 random 25 way one-shot learning tasks ... \n",
      "\n",
      "Got an average of 92.44444444444444% 25 way one-shot learning accuracy \n",
      "\n",
      "Evaluating nearest neighbour on 450 unique 25 way one-shot learning tasks ...\n",
      "Evaluating model on 450 random 27 way one-shot learning tasks ... \n",
      "\n",
      "Got an average of 78.66666666666667% 27 way one-shot learning accuracy \n",
      "\n",
      "Evaluating model on 450 random 27 way one-shot learning tasks ... \n",
      "\n",
      "Got an average of 93.77777777777777% 27 way one-shot learning accuracy \n",
      "\n",
      "Evaluating nearest neighbour on 450 unique 27 way one-shot learning tasks ...\n",
      "Evaluating model on 450 random 29 way one-shot learning tasks ... \n",
      "\n",
      "Got an average of 78.88888888888889% 29 way one-shot learning accuracy \n",
      "\n",
      "Evaluating model on 450 random 29 way one-shot learning tasks ... \n",
      "\n",
      "Got an average of 94.44444444444444% 29 way one-shot learning accuracy \n",
      "\n",
      "Evaluating nearest neighbour on 450 unique 29 way one-shot learning tasks ...\n"
     ]
    },
    {
     "data": {
      "image/png": "[encoded data removed]",
      "text/plain": [
       "<matplotlib.figure.Figure at 0x7fd3ba26ddd8>"
      ]
     },
     "metadata": {},
     "output_type": "display_data"
    }
   ],
   "source": [
    "def nearest_neighbour_correct(pairs,targets):\n",
    "    \"\"\"returns 1 if nearest neighbour gets the correct answer for a one-shot task\n",
    "        given by (pairs, targets)\"\"\"\n",
    "    L2_distances = np.zeros_like(targets)\n",
    "    for i in range(len(targets)):\n",
    "        L2_distances[i] = np.sum(np.sqrt(pairs[0][i]**2 - pairs[1][i]**2))\n",
    "    if np.argmin(L2_distances) == np.argmax(targets):\n",
    "        return 1\n",
    "    return 0\n",
    "\n",
    "\n",
    "def test_nn_accuracy(N_ways,n_trials,loader):\n",
    "    \"\"\"Returns accuracy of one shot \"\"\"\n",
    "    print(\"Evaluating nearest neighbour on {} unique {} way one-shot learning tasks ...\".format(n_trials,N_ways))\n",
    "\n",
    "    n_right = 0\n",
    "    \n",
    "    for i in range(n_trials):\n",
    "        pairs,targets = loader.make_oneshot_task(N_ways,\"val\")\n",
    "        correct = nearest_neighbour_correct(pairs,targets)\n",
    "        n_right += correct\n",
    "    return 100.0 * n_right / n_trials\n",
    "\n",
    "\n",
    "ways = np.arange(1, 30, 2)\n",
    "resume =  False\n",
    "val_accs, train_accs,nn_accs = [], [], []\n",
    "trials = 450\n",
    "for N in ways:\n",
    "    val_accs.append(loader.test_oneshot(model, N,trials, \"val\", verbose=True))\n",
    "    train_accs.append(loader.test_oneshot(model, N,trials, \"train\", verbose=True))\n",
    "    nn_accs.append(test_nn_accuracy(N,trials, loader))\n",
    "    \n",
    "#plot the accuracy vs num categories for each\n",
    "plt.plot(ways, val_accs, \"m\")\n",
    "plt.plot(ways, train_accs, \"y\")\n",
    "plt.plot(ways, nn_accs, \"c\")\n",
    "\n",
    "plt.plot(ways,100.0/ways,\"r\")\n",
    "plt.show()"
   ]
  },
  {
   "cell_type": "code",
   "execution_count": 251,
   "metadata": {},
   "outputs": [
    {
     "name": "stdout",
     "output_type": "stream",
     "text": [
      "86.5481481481\n"
     ]
    },
    {
     "data": {
      "image/png": "[encoded data removed]",
      "text/plain": [
       "<matplotlib.figure.Figure at 0x7fd3bd462278>"
      ]
     },
     "metadata": {},
     "output_type": "display_data"
    },
    {
     "data": {
      "image/png": "[encoded data removed]",
      "text/plain": [
       "<matplotlib.figure.Figure at 0x7fd3bd505b70>"
      ]
     },
     "metadata": {},
     "output_type": "display_data"
    }
   ],
   "source": [
    "fig,ax = plt.subplots(1)\n",
    "ax.plot(ways, val_accs, \"m\", label=\"Siamese(val set)\")\n",
    "ax.plot(ways, train_accs, \"y\", label=\"Siamese(train set)\")\n",
    "plt.plot(ways, nn_accs, label=\"Nearest neighbour\")\n",
    "\n",
    "ax.plot(ways, 100.0/ways, \"g\", label=\"Random guessing\")\n",
    "plt.xlabel(\"Number of possible classes in one-shot tasks\")\n",
    "plt.ylabel(\"% Accuracy\")\n",
    "plt.title(\"Omiglot One-Shot Learning Performance of a Siamese Network\")\n",
    "box = ax.get_position()\n",
    "ax.set_position([box.x0, box.y0, box.width * 0.8, box.height])\n",
    "ax.legend(loc='center left', bbox_to_anchor=(1, 0.5))\n",
    "inputs,targets = loader.make_oneshot_task(20, \"val\")\n",
    "plt.show()\n",
    "\n",
    "plot_oneshot_task(inputs)"
   ]
  },
  {
   "cell_type": "markdown",
   "metadata": {
    "collapsed": true
   },
   "source": [
    "### Inference and Observations"
   ]
  },
  {
   "cell_type": "markdown",
   "metadata": {},
   "source": [
    "The above model created seems to overfit a bit, one of the main reasons can be, the learning decay for each layer(as it is being mentioned in the original paper), has not been implemented in the current notebook.\n",
    "\n",
    "Also one of the other reasons can be, is number of iterations during training time. Currently the model is being trained for 20,0000 iterations, one iteration being one full pass over the data set.\n",
    "\n",
    "**Metric used to test the efficiency of the model**\n",
    "Siamese Networks are mainly used to Image Verification.\n",
    "\n",
    "Image Verification, being the task you're given two images and you have to tell if they are of the same person/class or category. Since in context of the problem we have in hand of image verification, classifying similar images of characters as same is the main problem we need to solve, therefore choosing ***accuracy*** is the right metric we should use to validate the performance of our model on new unseen data."
   ]
  },
  {
   "cell_type": "code",
   "execution_count": null,
   "metadata": {},
   "outputs": [],
   "source": []
  }
 ],
 "metadata": {
  "kernelspec": {
   "display_name": "Python 3",
   "language": "python",
   "name": "python3"
  },
  "language_info": {
   "codemirror_mode": {
    "name": "ipython",
    "version": 3
   },
   "file_extension": ".py",
   "mimetype": "text/x-python",
   "name": "python",
   "nbconvert_exporter": "python",
   "pygments_lexer": "ipython3",
   "version": "3.6.8"
  }
 },
 "nbformat": 4,
 "nbformat_minor": 2
}
